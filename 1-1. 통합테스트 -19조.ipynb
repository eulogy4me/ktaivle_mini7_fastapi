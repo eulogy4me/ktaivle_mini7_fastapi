{
 "cells": [
  {
   "cell_type": "markdown",
   "metadata": {
    "id": "4p06IPOk5xil"
   },
   "source": [
    "# **1-1. 통합 테스트**"
   ]
  },
  {
   "cell_type": "markdown",
   "metadata": {
    "id": "76Pw6f64d5VU"
   },
   "source": [
    "## **1.환경설정**"
   ]
  },
  {
   "cell_type": "markdown",
   "metadata": {
    "id": "1is0ZmzXeBrA"
   },
   "source": [
    "### (1) 경로 설정\n",
    "\n",
    "로컬 경로 설정"
   ]
  },
  {
   "cell_type": "code",
   "execution_count": 7,
   "metadata": {
    "id": "JhVujnYp4TJe"
   },
   "outputs": [],
   "source": [
    "path = './'"
   ]
  },
  {
   "cell_type": "markdown",
   "metadata": {
    "id": "6aFiucu6evl_"
   },
   "source": [
    "### (2) 라이브러리"
   ]
  },
  {
   "cell_type": "code",
   "execution_count": 8,
   "metadata": {
    "id": "_bx5a2MBfAt2"
   },
   "outputs": [
    {
     "data": {
      "text/plain": [
       "<module 'modules_AI_06_19' from 'c:\\\\Users\\\\User\\\\Mini7_team_fastapi\\\\ktaivle_mini7_fastapi\\\\modules_AI_06_19.py'>"
      ]
     },
     "execution_count": 8,
     "metadata": {},
     "output_type": "execute_result"
    }
   ],
   "source": [
    "#필요한 라이브러리 설치 및 불러우기\n",
    "import os\n",
    "import requests\n",
    "import xml.etree.ElementTree as ET\n",
    "import pandas as pd\n",
    "import openai\n",
    "from openai import OpenAI\n",
    "import json\n",
    "import torch\n",
    "import sys\n",
    "path = './'\n",
    "sys.path.append(path)\n",
    "\n",
    "from transformers import AutoTokenizer, AutoModelForSequenceClassification\n",
    "\n",
    "\n",
    "# 더 필요한 라이브러리 추가 -------------\n",
    "import importlib\n",
    "import modules_AI_06_19 as md\n",
    "importlib.reload(md)"
   ]
  },
  {
   "cell_type": "markdown",
   "metadata": {
    "id": "l-qzK-Egog5E"
   },
   "source": [
    "## **2. 단위 테스트**\n",
    "\n",
    "* 세부사항 : 아래 단계별로 데이터가 순차적으로 처리되도록 단위 테스트를 진행합니다."
   ]
  },
  {
   "cell_type": "markdown",
   "metadata": {
    "id": "Y2h3kvuJekAJ"
   },
   "source": [
    "### (1) open ai key 등록"
   ]
  },
  {
   "cell_type": "code",
   "execution_count": 6,
   "metadata": {
    "id": "fCh3jcGOekAK"
   },
   "outputs": [],
   "source": [
    "\n",
    "def load_api_keys(filename):\n",
    "    with open(filename, 'r') as file:\n",
    "        keys = json.load(file)\n",
    "    return keys\n",
    "openapi=load_api_keys(\"keys.json\")\n",
    "\n",
    "openai.api_key = openapi['openapi']\n",
    "service = openapi['service']\n",
    "c_id, c_key = openapi['c_id'], openapi['c_key']\n",
    "\n",
    "os.environ['OPENAI_API_KEY'] = openai.api_key\n",
    "os.environ['SERVICE_KEY'] = service\n",
    "os.environ['CLIENT_ID'] = c_id\n",
    "os.environ['CLIENT_KEY'] = c_key"
   ]
  },
  {
   "cell_type": "markdown",
   "metadata": {
    "id": "jn3tn-GuK0My"
   },
   "source": [
    "### (2) audio to text"
   ]
  },
  {
   "cell_type": "code",
   "execution_count": 9,
   "metadata": {
    "id": "2jcNEwGveebo"
   },
   "outputs": [
    {
     "name": "stdout",
     "output_type": "stream",
     "text": [
      "API Response: 위중한 상태인 것 같은데요. 지금 호흡이 곤란하세요. 지금 가면 응급처치 받을 수 있나요? 통증이 심하시거든요. 오른쪽 팔에 쏘이셨어요. 아버지가 별촌하다가 말벌에 쏘이셨어요.\n",
      "\n"
     ]
    }
   ],
   "source": [
    "audio_path = path + 'audio/'\n",
    "filename = 'merged_audio4.wav'\n",
    "\n",
    "api_key = os.environ.get('OPENAI_API_KEY')\n",
    "A2T = md.AudioTextProcessor(api_key)\n",
    "\n",
    "result = A2T.audio_to_text(audio_path, filename)\n"
   ]
  },
  {
   "cell_type": "markdown",
   "metadata": {
    "id": "DnyVoEvqe81v"
   },
   "source": [
    "### (3) text summary"
   ]
  },
  {
   "cell_type": "code",
   "execution_count": 10,
   "metadata": {},
   "outputs": [],
   "source": [
    "role = '''\n",
    "      당신은 119에서 긴급전화를 받는 어시스턴트입니다.\n",
    "      현재 입력된 텍스트는 급박하고 긴장되는 상황의 발언자가 하는 얘기이므로,\n",
    "      응급 상황임을 감안하여 발언자의 텍스트를 요약해주세요\n",
    "\n",
    "      KTAS 응급환자 중증도 분류기준에 대해 알아보고 위 기준에 따른 위험도 판단을 해줘\n",
    "      위험도 판단은 소생, 긴급, 응급, 준응급, 비응급 5단계로 나누어주세요\n",
    "\n",
    "      응답은 다음의 형식을 지켜주세요. JSON 형식으로 반환할 것\n",
    "      {\"summary\": \"텍스트 요약\",\n",
    "        \"keyword\": \"핵심 키워드(3가지)\",\n",
    "        \"danger\": \"위험도 단계 표시\"}\n",
    "    '''"
   ]
  },
  {
   "cell_type": "code",
   "execution_count": 11,
   "metadata": {
    "id": "2vVlh-oXe81v"
   },
   "outputs": [
    {
     "ename": "TypeError",
     "evalue": "AudioTextProcessor.text_summary() takes 2 positional arguments but 3 were given",
     "output_type": "error",
     "traceback": [
      "\u001b[1;31m---------------------------------------------------------------------------\u001b[0m",
      "\u001b[1;31mTypeError\u001b[0m                                 Traceback (most recent call last)",
      "Cell \u001b[1;32mIn[11], line 1\u001b[0m\n\u001b[1;32m----> 1\u001b[0m summary \u001b[38;5;241m=\u001b[39m \u001b[43mA2T\u001b[49m\u001b[38;5;241;43m.\u001b[39;49m\u001b[43mtext_summary\u001b[49m\u001b[43m(\u001b[49m\u001b[43mrole\u001b[49m\u001b[43m,\u001b[49m\u001b[43m \u001b[49m\u001b[43mresult\u001b[49m\u001b[43m)\u001b[49m\n\u001b[0;32m      2\u001b[0m summary\n",
      "\u001b[1;31mTypeError\u001b[0m: AudioTextProcessor.text_summary() takes 2 positional arguments but 3 were given"
     ]
    }
   ],
   "source": [
    "summary = A2T.text_summary(role, result)\n",
    "summary"
   ]
  },
  {
   "cell_type": "markdown",
   "metadata": {
    "id": "Q1WvCVInfMQw"
   },
   "source": [
    "### (4) 응급실 등급분류"
   ]
  },
  {
   "cell_type": "code",
   "execution_count": 79,
   "metadata": {
    "id": "4ECAESD3UYnI"
   },
   "outputs": [],
   "source": [
    "# 모델, 토크나이저 로드\n",
    "save_directory = path + \"fine_tuned_bert\"\n",
    "model = AutoModelForSequenceClassification.from_pretrained(save_directory)\n",
    "tokenizer = AutoTokenizer.from_pretrained(save_directory)"
   ]
  },
  {
   "cell_type": "code",
   "execution_count": 80,
   "metadata": {
    "id": "e-maRgSLUh86"
   },
   "outputs": [
    {
     "name": "stdout",
     "output_type": "stream",
     "text": [
      "예측된 클래스: 1\n",
      "예측된 클래스 이름: 2등급\n",
      "클래스별 확률: tensor([[0.3380, 0.4589, 0.0468, 0.0812, 0.0751]])\n"
     ]
    }
   ],
   "source": [
    "\n",
    "Bert = md.ModelInstance(loadpath = path + 'fine_tuned_bert')\n",
    "\n",
    "Bert.test(summary)\n",
    "\n"
   ]
  },
  {
   "cell_type": "markdown",
   "metadata": {
    "id": "lL0Np_CFrA5g"
   },
   "source": [
    "### (5) 응급실추천"
   ]
  },
  {
   "cell_type": "code",
   "execution_count": 91,
   "metadata": {
    "id": "MwsOD-DEr_4Q"
   },
   "outputs": [],
   "source": [
    "emergency = pd.read_csv(path + 'emergency_data.csv')\n",
    "\n",
    "service = openapi['service']\n",
    "\n",
    "c_id, c_key = openapi['c_id'], openapi['c_key']"
   ]
  },
  {
   "cell_type": "code",
   "execution_count": 146,
   "metadata": {
    "id": "OrjVbo7Zrpag"
   },
   "outputs": [
    {
     "ename": "KeyError",
     "evalue": "'route'",
     "output_type": "error",
     "traceback": [
      "\u001b[1;31m---------------------------------------------------------------------------\u001b[0m",
      "\u001b[1;31mKeyError\u001b[0m                                  Traceback (most recent call last)",
      "Cell \u001b[1;32mIn[146], line 18\u001b[0m\n\u001b[0;32m     15\u001b[0m public_data_service \u001b[38;5;241m=\u001b[39m md\u001b[38;5;241m.\u001b[39mPublicData(service\u001b[38;5;241m=\u001b[39mservice)\n\u001b[0;32m     17\u001b[0m Recog \u001b[38;5;241m=\u001b[39m md\u001b[38;5;241m.\u001b[39mGetDistance(csv\u001b[38;5;241m=\u001b[39mpath\u001b[38;5;241m+\u001b[39m\u001b[38;5;124m'\u001b[39m\u001b[38;5;124memergen_df.csv\u001b[39m\u001b[38;5;124m'\u001b[39m, c_id\u001b[38;5;241m=\u001b[39mc_id, c_key\u001b[38;5;241m=\u001b[39mc_key, public_data_service\u001b[38;5;241m=\u001b[39mpublic_data_service)\n\u001b[1;32m---> 18\u001b[0m hospitals \u001b[38;5;241m=\u001b[39m \u001b[43mRecog\u001b[49m\u001b[38;5;241;43m.\u001b[39;49m\u001b[43mrecommend_hospital\u001b[49m\u001b[43m(\u001b[49m\u001b[43mlatitude\u001b[49m\u001b[43m,\u001b[49m\u001b[43m \u001b[49m\u001b[43mlongitude\u001b[49m\u001b[43m)\u001b[49m\n\u001b[0;32m     20\u001b[0m \u001b[38;5;66;03m# for hospital in hospitals:\u001b[39;00m\n\u001b[0;32m     21\u001b[0m \u001b[38;5;66;03m#     duty_code = hospital[3]\u001b[39;00m\n\u001b[0;32m     22\u001b[0m \n\u001b[1;32m   (...)\u001b[0m\n\u001b[0;32m     25\u001b[0m \u001b[38;5;66;03m#     if bed_count > 0:\u001b[39;00m\n\u001b[0;32m     26\u001b[0m \u001b[38;5;66;03m#         print(f\"Hospital with available beds: {hospital}\")\u001b[39;00m\n",
      "File \u001b[1;32mc:\\Users\\User\\project7\\modules_AI_06_19.py:331\u001b[0m, in \u001b[0;36mGetDistance.recommend_hospital\u001b[1;34m(self, slat, slon, alpha)\u001b[0m\n\u001b[0;32m    325\u001b[0m     \u001b[38;5;28;01mreturn\u001b[39;00m []\n\u001b[0;32m    327\u001b[0m \u001b[38;5;66;03m# Step 3 : Naver 지도 API로 주행 거리 계산산\u001b[39;00m\n\u001b[0;32m    328\u001b[0m hospital_list \u001b[38;5;241m=\u001b[39m \u001b[38;5;28msorted\u001b[39m(\n\u001b[0;32m    329\u001b[0m     [(\u001b[38;5;28mself\u001b[39m\u001b[38;5;241m.\u001b[39m_get_driving_distance(slat, slon, hospital[\u001b[38;5;241m1\u001b[39m][\u001b[38;5;241m6\u001b[39m], hospital[\u001b[38;5;241m1\u001b[39m][\u001b[38;5;241m7\u001b[39m]), hospital)\n\u001b[0;32m    330\u001b[0m     \u001b[38;5;28;01mfor\u001b[39;00m hospital \u001b[38;5;129;01min\u001b[39;00m valid_hospitals\n\u001b[1;32m--> 331\u001b[0m     \u001b[38;5;28;01mif\u001b[39;00m \u001b[38;5;28;43mself\u001b[39;49m\u001b[38;5;241;43m.\u001b[39;49m\u001b[43m_get_driving_distance\u001b[49m\u001b[43m(\u001b[49m\u001b[43mslat\u001b[49m\u001b[43m,\u001b[49m\u001b[43m \u001b[49m\u001b[43mslon\u001b[49m\u001b[43m,\u001b[49m\u001b[43m \u001b[49m\u001b[43mhospital\u001b[49m\u001b[43m[\u001b[49m\u001b[38;5;241;43m1\u001b[39;49m\u001b[43m]\u001b[49m\u001b[43m[\u001b[49m\u001b[38;5;241;43m6\u001b[39;49m\u001b[43m]\u001b[49m\u001b[43m,\u001b[49m\u001b[43m \u001b[49m\u001b[43mhospital\u001b[49m\u001b[43m[\u001b[49m\u001b[38;5;241;43m1\u001b[39;49m\u001b[43m]\u001b[49m\u001b[43m[\u001b[49m\u001b[38;5;241;43m7\u001b[39;49m\u001b[43m]\u001b[49m\u001b[43m)\u001b[49m \u001b[38;5;241m<\u001b[39m math\u001b[38;5;241m.\u001b[39minf],\n\u001b[0;32m    332\u001b[0m     key\u001b[38;5;241m=\u001b[39m\u001b[38;5;28;01mlambda\u001b[39;00m x: x[\u001b[38;5;241m0\u001b[39m])\n\u001b[0;32m    334\u001b[0m \u001b[38;5;28;01mreturn\u001b[39;00m hospital_list[:\u001b[38;5;241m3\u001b[39m]\n",
      "File \u001b[1;32mc:\\Users\\User\\project7\\modules_AI_06_19.py:296\u001b[0m, in \u001b[0;36mGetDistance._get_driving_distance\u001b[1;34m(self, slat, slon, dlat, dlon)\u001b[0m\n\u001b[0;32m    290\u001b[0m params \u001b[38;5;241m=\u001b[39m {\n\u001b[0;32m    291\u001b[0m     \u001b[38;5;124m\"\u001b[39m\u001b[38;5;124mstart\u001b[39m\u001b[38;5;124m\"\u001b[39m: \u001b[38;5;124mf\u001b[39m\u001b[38;5;124m\"\u001b[39m\u001b[38;5;132;01m{\u001b[39;00mslon\u001b[38;5;132;01m}\u001b[39;00m\u001b[38;5;124m,\u001b[39m\u001b[38;5;132;01m{\u001b[39;00mslat\u001b[38;5;132;01m}\u001b[39;00m\u001b[38;5;124m\"\u001b[39m,\n\u001b[0;32m    292\u001b[0m     \u001b[38;5;124m\"\u001b[39m\u001b[38;5;124mgoal\u001b[39m\u001b[38;5;124m\"\u001b[39m: \u001b[38;5;124mf\u001b[39m\u001b[38;5;124m\"\u001b[39m\u001b[38;5;132;01m{\u001b[39;00mdlon\u001b[38;5;132;01m}\u001b[39;00m\u001b[38;5;124m,\u001b[39m\u001b[38;5;132;01m{\u001b[39;00mdlat\u001b[38;5;132;01m}\u001b[39;00m\u001b[38;5;124m\"\u001b[39m,\n\u001b[0;32m    293\u001b[0m     \u001b[38;5;124m\"\u001b[39m\u001b[38;5;124moption\u001b[39m\u001b[38;5;124m\"\u001b[39m: \u001b[38;5;124m\"\u001b[39m\u001b[38;5;124mtrafast\u001b[39m\u001b[38;5;124m\"\u001b[39m\n\u001b[0;32m    294\u001b[0m }\n\u001b[0;32m    295\u001b[0m response \u001b[38;5;241m=\u001b[39m requests\u001b[38;5;241m.\u001b[39mget(url, headers\u001b[38;5;241m=\u001b[39mheaders, params\u001b[38;5;241m=\u001b[39mparams)\n\u001b[1;32m--> 296\u001b[0m \u001b[38;5;28;01mreturn\u001b[39;00m \u001b[43mresponse\u001b[49m\u001b[38;5;241;43m.\u001b[39;49m\u001b[43mjson\u001b[49m\u001b[43m(\u001b[49m\u001b[43m)\u001b[49m\u001b[43m[\u001b[49m\u001b[38;5;124;43m'\u001b[39;49m\u001b[38;5;124;43mroute\u001b[39;49m\u001b[38;5;124;43m'\u001b[39;49m\u001b[43m]\u001b[49m[\u001b[38;5;124m'\u001b[39m\u001b[38;5;124mtrafast\u001b[39m\u001b[38;5;124m'\u001b[39m][\u001b[38;5;241m0\u001b[39m][\u001b[38;5;124m'\u001b[39m\u001b[38;5;124msummary\u001b[39m\u001b[38;5;124m'\u001b[39m][\u001b[38;5;124m'\u001b[39m\u001b[38;5;124mdistance\u001b[39m\u001b[38;5;124m'\u001b[39m] \u001b[38;5;28;01mif\u001b[39;00m response\u001b[38;5;241m.\u001b[39mstatus_code \u001b[38;5;241m==\u001b[39m \u001b[38;5;241m200\u001b[39m \u001b[38;5;28;01melse\u001b[39;00m math\u001b[38;5;241m.\u001b[39minf\n",
      "\u001b[1;31mKeyError\u001b[0m: 'route'"
     ]
    }
   ],
   "source": [
    "audio_path = path + 'audio/'\n",
    "filename = 'merged_audio4.wav'\n",
    "\n",
    "point = pd.read_csv(path + 'audio_location.csv')\n",
    "\n",
    "\n",
    "# 오디오 파일명에 해당하는 행을 찾기\n",
    "matching_row = point[point['filename'] == filename]\n",
    "matching_row\n",
    "# 동적으로 위도와 경도 정보 할당\n",
    "latitude = matching_row.iloc[0]['위도']\n",
    "longitude = matching_row.iloc[0]['경도']\n",
    "\n",
    "\n",
    "public_data_service = md.PublicData(service=service)\n",
    "\n",
    "Recog = md.GetDistance(csv=path+'emergen_df.csv', c_id=c_id, c_key=c_key, public_data_service=public_data_service)\n",
    "hospitals = Recog.recommend_hospital(latitude, longitude)\n",
    "\n",
    "# for hospital in hospitals:\n",
    "#     duty_code = hospital[3]\n",
    "\n",
    "#     bed_count = public_data_service.fetch_emrg_bed_info(duty_code=duty_code)\n",
    "\n",
    "#     if bed_count > 0:\n",
    "#         print(f\"Hospital with available beds: {hospital}\")\n"
   ]
  },
  {
   "cell_type": "code",
   "execution_count": null,
   "metadata": {
    "id": "aWAyWtFZrpQq"
   },
   "outputs": [],
   "source": []
  },
  {
   "cell_type": "markdown",
   "metadata": {
    "id": "D73P_NjZq585"
   },
   "source": [
    "## **3. 통합 테스트**\n",
    "\n",
    "* 세부사항\n",
    "    * [2. 단위 테스트] 의 내용을 순차적으로 실행하며 결과를 확인합니다."
   ]
  },
  {
   "cell_type": "code",
   "execution_count": 12,
   "metadata": {
    "id": "pb3oRhKDfHpc"
   },
   "outputs": [
    {
     "name": "stdout",
     "output_type": "stream",
     "text": [
      "Whisper API Response :  다른 게 아니고요. 아이가 열이 나고 토하고 그래서요. 장염인가 싶어서요. 전에 소아과에서 받은 장염약을 먹였거든요. 그런데 아이가 점점 더 힘이 빠지네요. 물만 먹여도 토하고요. 탈수가 된 것 같아서요. 아무래도 응급실에 가봐야 할 것 같네요. 지금 가도 될까요?\n",
      "\n",
      "summary response :  {\n",
      "    \"content\": \"아이가 열이 나고 토하며 점점 힘이 빠지고 있어서 응급실 방문이 필요할 것으로 보입니다.\",\n",
      "    \"keyword\": [\"아이\", \"열\", \"응급실\"]\n",
      "}\n"
     ]
    },
    {
     "data": {
      "text/plain": [
       "[{'haversine_km': 1.111161722006186,\n",
       "  'distance_km': 2.626,\n",
       "  'hospital_name': '분당서울대학교병원',\n",
       "  'address': '경기도 성남시 분당구 구미로173번길 82 (구미동, 분당서울대학교병원)',\n",
       "  'emergency_type': '권역응급의료센터',\n",
       "  'phone1': '031-787-2114',\n",
       "  'phone3': '031-787-3119',\n",
       "  'hospital_latitude': 37.35202597297615,\n",
       "  'hospital_longitude': 127.12448354572744},\n",
       " {'haversine_km': 3.29996370427956,\n",
       "  'distance_km': 4.707,\n",
       "  'hospital_name': '대진의료재단분당제생병원',\n",
       "  'address': '경기도 성남시 분당구 서현로180번길 20 (서현동)',\n",
       "  'emergency_type': '지역응급의료센터',\n",
       "  'phone1': '031-779-0114',\n",
       "  'phone3': '031-779-0119',\n",
       "  'hospital_latitude': 37.387871379956906,\n",
       "  'hospital_longitude': 127.12132819639598},\n",
       " {'haversine_km': 4.7388990676761376,\n",
       "  'distance_km': 5.973,\n",
       "  'hospital_name': '국군수도병원',\n",
       "  'address': '경기도 성남시 분당구 새마을로177번길 81 (율동)',\n",
       "  'emergency_type': '지역응급의료기관',\n",
       "  'phone1': '031-725-6075',\n",
       "  'phone3': '031-725-6119',\n",
       "  'hospital_latitude': 37.39186666666668,\n",
       "  'hospital_longitude': 127.14858611111111},\n",
       " {'haversine_km': 5.794526496986809,\n",
       "  'distance_km': 6.892,\n",
       "  'hospital_name': '차의과학대학교분당차병원',\n",
       "  'address': '경기도 성남시 분당구 야탑로 59 (야탑동)',\n",
       "  'emergency_type': '권역응급의료센터',\n",
       "  'phone1': '031-780-5000',\n",
       "  'phone3': '031-780-5840',\n",
       "  'hospital_latitude': 37.4101145912911,\n",
       "  'hospital_longitude': 127.125083678928},\n",
       " {'haversine_km': 8.512654150329224,\n",
       "  'distance_km': 10.268,\n",
       "  'hospital_name': '성모윌병원',\n",
       "  'address': '경기도 성남시 수정구 성남대로 1171, 삼성화재빌딩 1층일부, 2~9층 (수진동)',\n",
       "  'emergency_type': '응급실운영신고기관',\n",
       "  'phone1': '031-751-2075',\n",
       "  'phone3': '1833-5001',\n",
       "  'hospital_latitude': 37.4344473895,\n",
       "  'hospital_longitude': 127.1282853418}]"
      ]
     },
     "execution_count": 12,
     "metadata": {},
     "output_type": "execute_result"
    }
   ],
   "source": [
    "# 1. 준비 작업 ---------------------------------------------\n",
    "def load_api_keys(filename):\n",
    "    with open(filename, 'r') as file:\n",
    "        keys = json.load(file)\n",
    "    return keys\n",
    "openapi=load_api_keys(\"keys.json\")\n",
    "\n",
    "openai.api_key = openapi['openapi']\n",
    "service = openapi['service']\n",
    "c_id, c_key = openapi['c_id'], openapi['c_key']\n",
    "\n",
    "os.environ['OPENAI_API_KEY'] = openai.api_key\n",
    "os.environ['SERVICE_KEY'] = service\n",
    "os.environ['CLIENT_ID'] = c_id\n",
    "os.environ['CLIENT_KEY'] = c_key\n",
    "\n",
    "\n",
    "emergency = pd.read_csv(path + 'emergen_df.csv')\n",
    "\n",
    "point = pd.read_csv(path + 'audio_location.csv')\n",
    "\n",
    "# 모델, 토크나이저 로드\n",
    "save_directory = path + \"fine_tuned_bert\"\n",
    "model = AutoModelForSequenceClassification.from_pretrained(save_directory)\n",
    "tokenizer = AutoTokenizer.from_pretrained(save_directory)\n",
    "\n",
    "\n",
    "# 2. 데이터 처리(pipeline) ---------------------------------\n",
    "\n",
    "# input\n",
    "audio_path = path + 'audio/'\n",
    "filename = 'merged_audio1.wav'\n",
    "\n",
    "\n",
    "# 처리\n",
    "A2T = md.AudioTextProcessor(api_key=openai.api_key)\n",
    "result = A2T.audio_to_text(audio_path, filename)\n",
    "\n",
    "summary = A2T.text_summary(result)\n",
    "\n",
    "Bert = md.ModelInstance(loadpath = path + 'fine_tuned_bert')\n",
    "#model_result = Bert.test(summary)\n",
    "\n",
    "# 응급실 추천\n",
    "\n",
    "# 오디오 파일명에 해당하는 행을 찾기\n",
    "matching_row = point[point['filename'] == filename]\n",
    "matching_row\n",
    "# 동적으로 위도와 경도 정보 할당\n",
    "latitude = matching_row.iloc[0]['위도']\n",
    "longitude = matching_row.iloc[0]['경도']\n",
    "\n",
    "\n",
    "# 국립 중앙으료원 API / 네이버지도 API 호출, 거리에 의한 병원추천 함수 실행\n",
    "public_data_service = md.PublicData(service=service)\n",
    "Recog = md.GetDistance(csv=path+'emergen_df.csv', c_id=c_id, c_key=c_key, public_data_service=public_data_service)\n",
    "hospitals = Recog.recommend_hospital(latitude, longitude,recog_num=5)\n",
    "      \n",
    "hospitals\n",
    "\n",
    "# # 3. 결과 객체 생성\n",
    "# emergency_result = md.EmergencyResult(\n",
    "#     summary=summary,\n",
    "#     danger_level=model_result[\"class_name\"],\n",
    "#     latitude=latitude,\n",
    "#     longitude=longitude,\n",
    "#     hospitals=hospitals\n",
    "# )\n",
    "\n",
    "# # 4. 결과를 딕셔너리로 변환\n",
    "# result_dict = emergency_result.to_dict()"
   ]
  },
  {
   "cell_type": "code",
   "execution_count": null,
   "metadata": {
    "id": "5bO80WuryK3t"
   },
   "outputs": [],
   "source": []
  }
 ],
 "metadata": {
  "colab": {
   "provenance": [],
   "toc_visible": true
  },
  "kernelspec": {
   "display_name": "mini_fastapi",
   "language": "python",
   "name": "python3"
  },
  "language_info": {
   "codemirror_mode": {
    "name": "ipython",
    "version": 3
   },
   "file_extension": ".py",
   "mimetype": "text/x-python",
   "name": "python",
   "nbconvert_exporter": "python",
   "pygments_lexer": "ipython3",
   "version": "3.12.8"
  }
 },
 "nbformat": 4,
 "nbformat_minor": 0
}
